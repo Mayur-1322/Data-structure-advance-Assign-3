{
  "nbformat": 4,
  "nbformat_minor": 0,
  "metadata": {
    "colab": {
      "provenance": []
    },
    "kernelspec": {
      "name": "python3",
      "display_name": "Python 3"
    },
    "language_info": {
      "name": "python"
    }
  },
  "cells": [
    {
      "cell_type": "markdown",
      "source": [
        "PYTHON\n",
        "\n",
        "ASSIGNMENT - 3 [Data structure in advance]"
      ],
      "metadata": {
        "id": "u072H9zwQuRk"
      }
    },
    {
      "cell_type": "markdown",
      "source": [
        "1. Write a code to reverse a string\n"
      ],
      "metadata": {
        "id": "_zi4Ocq-JAE0"
      }
    },
    {
      "cell_type": "code",
      "source": [
        "# to reverse a string in python using index\n",
        "a = \"mayur\"\n",
        "print(a[::-1])  #reversed\n"
      ],
      "metadata": {
        "colab": {
          "base_uri": "https://localhost:8080/"
        },
        "id": "9EOidN8rJPoJ",
        "outputId": "09930d71-1145-47fc-f74c-40971e9a8b93"
      },
      "execution_count": 12,
      "outputs": [
        {
          "output_type": "stream",
          "name": "stdout",
          "text": [
            "ruyam\n"
          ]
        }
      ]
    },
    {
      "cell_type": "markdown",
      "source": [
        "2. Write a code to count the number of vowels in a string"
      ],
      "metadata": {
        "id": "ReLC0uIEKPL4"
      }
    },
    {
      "cell_type": "code",
      "source": [
        "a = \"mayur\"\n",
        "vowels_count = 0\n",
        "b = \"AEIOUaeiou\"\n",
        "for r in a:\n",
        "  if r in b:\n",
        "    vowels_count+=1\n",
        "print(vowels_count)"
      ],
      "metadata": {
        "colab": {
          "base_uri": "https://localhost:8080/"
        },
        "id": "zrkvN9tgKUiT",
        "outputId": "d4930245-0252-4f5a-dc60-74c8786066fd"
      },
      "execution_count": 3,
      "outputs": [
        {
          "output_type": "stream",
          "name": "stdout",
          "text": [
            "2\n"
          ]
        }
      ]
    },
    {
      "cell_type": "markdown",
      "source": [
        "3.Write a code to check if a given string is a palindrome or not"
      ],
      "metadata": {
        "id": "POfK0oV7L1rZ"
      }
    },
    {
      "cell_type": "code",
      "source": [
        "a = input(\"Enter a string\")\n",
        "if a==a[::-1]:\n",
        "   print(\"The given string is palindrome\")\n",
        "else:\n",
        "  print(\"The give string is not a palindrome\")"
      ],
      "metadata": {
        "colab": {
          "base_uri": "https://localhost:8080/"
        },
        "id": "hYZvH5icL8xo",
        "outputId": "e2b03441-2501-4426-9263-86c7d3fb2599"
      },
      "execution_count": 4,
      "outputs": [
        {
          "output_type": "stream",
          "name": "stdout",
          "text": [
            "Enter a stringmalayalam\n",
            "The given string is palindrome\n"
          ]
        }
      ]
    },
    {
      "cell_type": "markdown",
      "source": [
        "4. Write a code to check if two given strings are anagrams of each"
      ],
      "metadata": {
        "id": "a-H7X-l9MlxB"
      }
    },
    {
      "cell_type": "code",
      "source": [
        "a = input(\"Enter string 1 \")\n",
        "b = input(\"Enter string 2\")\n",
        "if sorted(a)==sorted(b):\n",
        "  print(\"The given two string is anagrams of each other\")\n",
        "else:\n",
        "  print(\"The given two string is not a anagrams of each other\")"
      ],
      "metadata": {
        "colab": {
          "base_uri": "https://localhost:8080/"
        },
        "id": "g-WeQfrzMtUE",
        "outputId": "3e58b581-7d6c-4ce0-e5a0-79ee67b0a55e"
      },
      "execution_count": 5,
      "outputs": [
        {
          "output_type": "stream",
          "name": "stdout",
          "text": [
            "Enter string 1 mayur\n",
            "Enter string 2ramyu\n",
            "The given two string is anagrams of each other\n"
          ]
        }
      ]
    },
    {
      "cell_type": "markdown",
      "source": [
        "5.Write a code to find all occurrences of a given substring within another string"
      ],
      "metadata": {
        "id": "VxCnxhjuNtqK"
      }
    },
    {
      "cell_type": "code",
      "source": [
        "a = \"PW SKILLS HELLO PW SKILLS\"\n",
        "print  (a.find(\"PW\"))\n",
        "print(a.rfind(\"PW\"))\n"
      ],
      "metadata": {
        "colab": {
          "base_uri": "https://localhost:8080/"
        },
        "id": "bNaucdjTNzLP",
        "outputId": "16be388f-c8f9-4ac4-cad1-9a72799ad9b0"
      },
      "execution_count": 7,
      "outputs": [
        {
          "output_type": "stream",
          "name": "stdout",
          "text": [
            "0\n",
            "16\n"
          ]
        }
      ]
    },
    {
      "cell_type": "markdown",
      "source": [
        "6.Write a code to find all occurrences of a given substring within another string"
      ],
      "metadata": {
        "id": "5pEpWXssQqfj"
      }
    },
    {
      "cell_type": "code",
      "source": [
        "r = input(\"Enter a string\")\n",
        "a = r[0]\n",
        "result = \"\"\n",
        "count = 0\n",
        "r =r+\" \"\n",
        "for x in r:\n",
        "  if x==a:\n",
        "    count+=1\n",
        "  else:\n",
        "    result = result+str(count)+str(a)\n",
        "    ch =x\n",
        "    count=1\n",
        "print(result)\n",
        "\n"
      ],
      "metadata": {
        "colab": {
          "base_uri": "https://localhost:8080/"
        },
        "id": "NdWpQJZRQ3AF",
        "outputId": "e80ccd29-a596-42e1-c56f-7360073a69f9"
      },
      "execution_count": 8,
      "outputs": [
        {
          "output_type": "stream",
          "name": "stdout",
          "text": [
            "Enter a stringmpppppppppppp\n",
            "1m1m1m1m1m1m1m1m1m1m1m1m1m\n"
          ]
        }
      ]
    },
    {
      "cell_type": "markdown",
      "source": [
        "7.Write a code to determine if a string has all unique characters"
      ],
      "metadata": {
        "id": "9lNT7NveVwNn"
      }
    },
    {
      "cell_type": "code",
      "source": [
        "def check_unique_chars(input_string):\n",
        "    # Convert the string to a set to remove duplicate characters\n",
        "    unique_chars = set(input_string)\n",
        "\n",
        "    # If the length of the set is equal to the length of the string, all characters are unique\n",
        "    if len(unique_chars) == len(input_string):\n",
        "        return True\n",
        "    else:\n",
        "        return False\n",
        "\n",
        "#\n",
        "input_str = \"mayur\"\n",
        "\n",
        "\n",
        "if check_unique_chars(input_str):\n",
        "    print(\"The string has all unique characters.\")\n",
        "else:\n",
        "    print(\"The string does not have all unique characters.\")"
      ],
      "metadata": {
        "colab": {
          "base_uri": "https://localhost:8080/"
        },
        "id": "kQqqrialV25k",
        "outputId": "d9ae2c2e-ffc3-4efe-88b1-2c0987e9adb9"
      },
      "execution_count": 11,
      "outputs": [
        {
          "output_type": "stream",
          "name": "stdout",
          "text": [
            "The string has all unique characters.\n"
          ]
        }
      ]
    },
    {
      "cell_type": "markdown",
      "source": [
        "8. Write a code to convert a given string to uppercase or lowercase"
      ],
      "metadata": {
        "id": "N9i9BzdGYMvo"
      }
    },
    {
      "cell_type": "code",
      "source": [
        "a = \"mayur\"\n",
        "#uppercase\n",
        "print(a.upper())\n",
        "#lower case\n",
        "print(a.lower())"
      ],
      "metadata": {
        "colab": {
          "base_uri": "https://localhost:8080/"
        },
        "id": "MYQCWLgzYPuP",
        "outputId": "08c97b96-841a-4906-dabc-8fff4ddf2bc5"
      },
      "execution_count": 13,
      "outputs": [
        {
          "output_type": "stream",
          "name": "stdout",
          "text": [
            "MAYUR\n",
            "mayur\n"
          ]
        }
      ]
    },
    {
      "cell_type": "markdown",
      "source": [
        "9.Write a code to count the number of words in a string"
      ],
      "metadata": {
        "id": "W9QOG25rbIgy"
      }
    },
    {
      "cell_type": "code",
      "source": [
        "string = \"Welcome to python programming\"\n",
        "word_list = string.split()\n",
        "word_count = len(word_list)\n",
        "print(word_count)"
      ],
      "metadata": {
        "colab": {
          "base_uri": "https://localhost:8080/"
        },
        "id": "kLh7P--7bejQ",
        "outputId": "ba2cb17a-f4df-4919-f843-e8623a735ad3"
      },
      "execution_count": 14,
      "outputs": [
        {
          "output_type": "stream",
          "name": "stdout",
          "text": [
            "4\n"
          ]
        }
      ]
    },
    {
      "cell_type": "markdown",
      "source": [
        "10. Write a code to concatenate two strings without using the + operator"
      ],
      "metadata": {
        "id": "EYvelWvhgBRo"
      }
    },
    {
      "cell_type": "code",
      "source": [
        "string1 = \"hello\"\n",
        "string2 = \"good morning\"\n",
        "concat = \" \".join([string1,string2])\n",
        "print(concat)"
      ],
      "metadata": {
        "colab": {
          "base_uri": "https://localhost:8080/"
        },
        "id": "V48oSA7-gI8S",
        "outputId": "93f13a75-1a9e-4a0c-ed12-10b38a24b92f"
      },
      "execution_count": 15,
      "outputs": [
        {
          "output_type": "stream",
          "name": "stdout",
          "text": [
            "hello good morning\n"
          ]
        }
      ]
    },
    {
      "cell_type": "markdown",
      "source": [
        "11.Write a code to remove all occurrences of a specific element from a list"
      ],
      "metadata": {
        "id": "3NZyfkCLi4YT"
      }
    },
    {
      "cell_type": "code",
      "source": [
        "def remove_all(lst, element):\n",
        "    while element in lst:\n",
        "        lst.remove(element)\n",
        "\n",
        "\n",
        "# Example usage\n",
        "my_list = [1, 2, 3, 4, 2, 5, 2]\n",
        "remove_all(my_list, 2)\n",
        "print(my_list)\n"
      ],
      "metadata": {
        "colab": {
          "base_uri": "https://localhost:8080/"
        },
        "id": "Xq31SmgyjBvu",
        "outputId": "422e8116-f059-4fa9-d8d2-34cbef197e75"
      },
      "execution_count": 16,
      "outputs": [
        {
          "output_type": "stream",
          "name": "stdout",
          "text": [
            "[1, 3, 4, 5]\n"
          ]
        }
      ]
    },
    {
      "cell_type": "markdown",
      "source": [
        "12.Implement a code to find the second largest number in a given list of integers"
      ],
      "metadata": {
        "id": "uMhKnelolkFY"
      }
    },
    {
      "cell_type": "code",
      "source": [
        "\n",
        "mylist = [1, 2, 8, 3, 12]\n",
        "print(sorted(mylist, reverse=True)[1])"
      ],
      "metadata": {
        "colab": {
          "base_uri": "https://localhost:8080/"
        },
        "id": "B_Ax1Jakloju",
        "outputId": "776fc359-03a4-4b32-8c94-f85fa5f7f589"
      },
      "execution_count": 18,
      "outputs": [
        {
          "output_type": "stream",
          "name": "stdout",
          "text": [
            "8\n"
          ]
        }
      ]
    },
    {
      "cell_type": "markdown",
      "source": [
        "13. Create a code to count the occurrences of each element in a list and return a dictionary with elements as\n",
        "keys and their counts as values"
      ],
      "metadata": {
        "id": "lFAb6uATmGR0"
      }
    },
    {
      "cell_type": "code",
      "source": [
        "a =['a','b','b','c''c']\n",
        "b =a.count('b')\n",
        "print(b)"
      ],
      "metadata": {
        "colab": {
          "base_uri": "https://localhost:8080/",
          "height": 176
        },
        "collapsed": true,
        "id": "egblwe9xmM0r",
        "outputId": "c70fdabb-f287-4e7a-b3f8-106668e56d99"
      },
      "execution_count": null,
      "outputs": [
        {
          "output_type": "error",
          "ename": "TypeError",
          "evalue": "'int' object is not iterable",
          "traceback": [
            "\u001b[0;31m---------------------------------------------------------------------------\u001b[0m",
            "\u001b[0;31mTypeError\u001b[0m                                 Traceback (most recent call last)",
            "\u001b[0;32m<ipython-input-37-df619e33dd0d>\u001b[0m in \u001b[0;36m<cell line: 3>\u001b[0;34m()\u001b[0m\n\u001b[1;32m      1\u001b[0m \u001b[0ma\u001b[0m \u001b[0;34m=\u001b[0m\u001b[0;34m[\u001b[0m\u001b[0;34m'a'\u001b[0m\u001b[0;34m,\u001b[0m\u001b[0;34m'b'\u001b[0m\u001b[0;34m,\u001b[0m\u001b[0;34m'b'\u001b[0m\u001b[0;34m,\u001b[0m\u001b[0;34m'c'\u001b[0m\u001b[0;34m'c'\u001b[0m\u001b[0;34m]\u001b[0m\u001b[0;34m\u001b[0m\u001b[0;34m\u001b[0m\u001b[0m\n\u001b[1;32m      2\u001b[0m \u001b[0mb\u001b[0m \u001b[0;34m=\u001b[0m\u001b[0ma\u001b[0m\u001b[0;34m.\u001b[0m\u001b[0mcount\u001b[0m\u001b[0;34m(\u001b[0m\u001b[0;34m'b'\u001b[0m\u001b[0;34m)\u001b[0m\u001b[0;34m\u001b[0m\u001b[0;34m\u001b[0m\u001b[0m\n\u001b[0;32m----> 3\u001b[0;31m \u001b[0mprint\u001b[0m\u001b[0;34m(\u001b[0m\u001b[0mdict\u001b[0m\u001b[0;34m(\u001b[0m\u001b[0mb\u001b[0m\u001b[0;34m)\u001b[0m\u001b[0;34m)\u001b[0m\u001b[0;34m\u001b[0m\u001b[0;34m\u001b[0m\u001b[0m\n\u001b[0m",
            "\u001b[0;31mTypeError\u001b[0m: 'int' object is not iterable"
          ]
        }
      ]
    },
    {
      "cell_type": "markdown",
      "source": [
        "14. Write a code to reverse a list in-place without using any built-in reverse functions"
      ],
      "metadata": {
        "id": "wq2armTFo_1T"
      }
    },
    {
      "cell_type": "code",
      "source": [
        "a = [\"mayur\",\"virat\",\"sakshi\",\"coding\"]\n",
        "str(a)\n",
        "print(a[::-1])"
      ],
      "metadata": {
        "colab": {
          "base_uri": "https://localhost:8080/"
        },
        "id": "MI6CRn-7pHG1",
        "outputId": "77a6e011-50f6-4f90-cc8c-2ac2bf423ef6"
      },
      "execution_count": 20,
      "outputs": [
        {
          "output_type": "stream",
          "name": "stdout",
          "text": [
            "['coding', 'sakshi', 'virat', 'mayur']\n"
          ]
        }
      ]
    },
    {
      "cell_type": "markdown",
      "source": [
        "15. Implement a code to find and remove duplicates from a list while preserving the original order of\n",
        "elements"
      ],
      "metadata": {
        "id": "pz0DweezpbaT"
      }
    },
    {
      "cell_type": "code",
      "source": [
        "a =[\"apple\",\"orange\",\"banana\",\"orange\",\"apple\"]\n",
        "unique = []\n",
        "for x in a:\n",
        "  if x not in unique:\n",
        "    unique.append(x)\n",
        "print(\"update list is\",unique)"
      ],
      "metadata": {
        "colab": {
          "base_uri": "https://localhost:8080/"
        },
        "id": "zevTWSTTpkrM",
        "outputId": "7083f40f-8c54-4930-da05-b2cab9080b55"
      },
      "execution_count": 21,
      "outputs": [
        {
          "output_type": "stream",
          "name": "stdout",
          "text": [
            "update list is ['apple', 'orange', 'banana']\n"
          ]
        }
      ]
    },
    {
      "cell_type": "markdown",
      "source": [
        "16. Create a code to check if a given list is sorted (either in ascending or descending order) or not"
      ],
      "metadata": {
        "id": "O2HfUbGPqotH"
      }
    },
    {
      "cell_type": "code",
      "source": [
        "def is_sorted(lst):\n",
        "    ascending = all(lst[i] <= lst[i + 1] for i in range(len(lst) - 1))\n",
        "    descending = all(lst[i] >= lst[i + 1] for i in range(len(lst) - 1))\n",
        "    if ascending:\n",
        "        return \"The list is sorted in ascending order.\"\n",
        "    elif descending:\n",
        "        return \"The list is sorted in descending order.\"\n",
        "    else:\n",
        "        return \"The list is not sorted.\"\n",
        "\n",
        "# Example usage:\n",
        "list1 = [1, 2, 3, 4, 5]\n",
        "list2 = [5, 4, 3, 2, 1]\n",
        "list3 = [1, 3, 2, 4, 5]\n",
        "\n",
        "print(is_sorted(list1))  # Output: The list is sorted in ascending order.\n",
        "print(is_sorted(list2))  # Output: The list is sorted in descending order.\n",
        "print(is_sorted(list3))"
      ],
      "metadata": {
        "colab": {
          "base_uri": "https://localhost:8080/"
        },
        "id": "J_Gzyr_5togT",
        "outputId": "7f9ce5a9-b02a-4482-a033-3543b0497938"
      },
      "execution_count": 22,
      "outputs": [
        {
          "output_type": "stream",
          "name": "stdout",
          "text": [
            "The list is sorted in ascending order.\n",
            "The list is sorted in descending order.\n",
            "The list is not sorted.\n"
          ]
        }
      ]
    },
    {
      "cell_type": "markdown",
      "source": [
        "17. Write a code to merge two sorted lists into a single sorted list\n",
        "\n",
        "---\n",
        "\n"
      ],
      "metadata": {
        "id": "KVN_6GXYuZlU"
      }
    },
    {
      "cell_type": "code",
      "source": [
        "firstList = [2, 7, 8, 9]\n",
        "secondList = [0, 1, 4, 6]\n",
        "result = []\n",
        "i, j = 0, 0\n",
        "\n",
        "while i < len(firstList) and j < len(secondList):\n",
        "    if firstList[i] < secondList[j]:\n",
        "        result.append(firstList[i])\n",
        "        i = i + 1\n",
        "    else:\n",
        "        result.append(secondList[j])\n",
        "        j = j + 1\n",
        "\n",
        "result = result + firstList[i:] + secondList[j:]\n",
        "print(\"Sorted List: \" + str(result))"
      ],
      "metadata": {
        "colab": {
          "base_uri": "https://localhost:8080/"
        },
        "id": "Ccpy-UTAue1S",
        "outputId": "fd9a01bb-9496-4f85-c9c1-49fd6a713dc9"
      },
      "execution_count": 23,
      "outputs": [
        {
          "output_type": "stream",
          "name": "stdout",
          "text": [
            "Sorted List: [0, 1, 2, 4, 6, 7, 8, 9]\n"
          ]
        }
      ]
    },
    {
      "cell_type": "markdown",
      "source": [
        "18.Implement a code to find the intersection of two given lists"
      ],
      "metadata": {
        "id": "xT2xyJjVvKpL"
      }
    },
    {
      "cell_type": "code",
      "source": [
        "a = [1,2,3,5,4,6,3,2]\n",
        "b = [3,5,5,8,2,1,5,1]\n",
        "c =set(a) & set(b)\n",
        "print(list(c))\n"
      ],
      "metadata": {
        "colab": {
          "base_uri": "https://localhost:8080/"
        },
        "id": "iRPok9j2vP-N",
        "outputId": "e0f48225-a418-492e-ee5e-fee6900b0836"
      },
      "execution_count": 24,
      "outputs": [
        {
          "output_type": "stream",
          "name": "stdout",
          "text": [
            "[1, 2, 3, 5]\n"
          ]
        }
      ]
    },
    {
      "cell_type": "markdown",
      "source": [
        "19. Create a code to find the union of two lists without duplicates"
      ],
      "metadata": {
        "id": "rzFqi9gVw-h9"
      }
    },
    {
      "cell_type": "code",
      "source": [
        "a =[1,5,89,7,8,2,5,6]\n",
        "b = [5,5,8,9,6,48,56,280]\n",
        "c = set(a) | set(b)\n",
        "print(list(c))"
      ],
      "metadata": {
        "colab": {
          "base_uri": "https://localhost:8080/"
        },
        "id": "zD2fnScgxYgs",
        "outputId": "8d498986-b93c-4f8a-dc57-62f1b95c01b0"
      },
      "execution_count": 25,
      "outputs": [
        {
          "output_type": "stream",
          "name": "stdout",
          "text": [
            "[1, 2, 5, 6, 7, 8, 9, 48, 280, 89, 56]\n"
          ]
        }
      ]
    },
    {
      "cell_type": "markdown",
      "source": [
        "20.Write a code to shuffle a given list randomly without using any built-in shuffle functions"
      ],
      "metadata": {
        "id": "Mt8ybqbIyTZX"
      }
    },
    {
      "cell_type": "code",
      "source": [
        "import random\n",
        "\n",
        "a_list = ['welcome', 'to', 'datagy', 'where', 'you', 'will', 'learn', 'Python', 'and', 'more']\n",
        "random.shuffle(a_list)\n",
        "\n",
        "print(a_list)"
      ],
      "metadata": {
        "colab": {
          "base_uri": "https://localhost:8080/"
        },
        "id": "QAwpANpVyg2P",
        "outputId": "eb21565e-8b78-415c-dce3-7dbe0119df7f"
      },
      "execution_count": 26,
      "outputs": [
        {
          "output_type": "stream",
          "name": "stdout",
          "text": [
            "['learn', 'Python', 'will', 'you', 'to', 'more', 'where', 'welcome', 'and', 'datagy']\n"
          ]
        }
      ]
    },
    {
      "cell_type": "markdown",
      "source": [
        "21.Write a code that takes two tuples as input and returns a new tuple containing elements that are\n",
        "common to both input tuples"
      ],
      "metadata": {
        "id": "S0QhzB5nzRP1"
      }
    },
    {
      "cell_type": "code",
      "source": [
        "a = input(\"enter  num \")\n",
        "b = input(\"enter num \")\n",
        "c = set(a) & set(b)\n",
        "print(tuple(c))"
      ],
      "metadata": {
        "colab": {
          "base_uri": "https://localhost:8080/"
        },
        "collapsed": true,
        "id": "oeNS9boezWkI",
        "outputId": "e507eac5-b85d-4e4a-cc7e-eaed2fb9f733"
      },
      "execution_count": null,
      "outputs": [
        {
          "output_type": "stream",
          "name": "stdout",
          "text": [
            "enter  num 1,5,8,9,3,5,5\n",
            "enter num 8,2,5,9,6,5\n",
            "(',', '5', '9', '8')\n"
          ]
        }
      ]
    },
    {
      "cell_type": "markdown",
      "source": [
        "22.Create a code that prompts the user to enter two sets of integers separated by commas. Then, print the\n",
        "intersection of these two sets"
      ],
      "metadata": {
        "id": "A6aV8DVI1_8R"
      }
    },
    {
      "cell_type": "code",
      "source": [
        "a = (input(\"enter a numbers\"))\n",
        "b = (input(\"enter a numbers\"))\n",
        "c = set(a) & set (b)\n",
        "print(set(c))"
      ],
      "metadata": {
        "colab": {
          "base_uri": "https://localhost:8080/"
        },
        "outputId": "9807417f-516e-4dfc-f774-27f9afa2dd0b",
        "id": "T-fPV7UcHuyC"
      },
      "execution_count": 2,
      "outputs": [
        {
          "output_type": "stream",
          "name": "stdout",
          "text": [
            "enter a numbers1,5,6,9,8,3,5\n",
            "enter a numbers7,6,5,9,8,5,7,9\n",
            "{'9', ',', '8', '5', '6'}\n"
          ]
        }
      ]
    },
    {
      "cell_type": "markdown",
      "source": [
        "23. Write a code to concatenate two tuples. The function should take two tuples as input and return a new\n",
        "tuple containing elements from both input tuples"
      ],
      "metadata": {
        "id": "sQOoDllC3NSG"
      }
    },
    {
      "cell_type": "code",
      "source": [
        "def concatenate_tuples(tup1, tup2):\n",
        "    return tup1 + tup2\n",
        "\n",
        "# Example usage:\n",
        "tuple1 = (1, 2, 3)\n",
        "tuple2 = (4, 5, 6)\n",
        "result = concatenate_tuples(tuple1, tuple2)\n",
        "print(\"Concatenated tuple:\", result)\n"
      ],
      "metadata": {
        "colab": {
          "base_uri": "https://localhost:8080/"
        },
        "id": "e3Tq_X1y3nr-",
        "outputId": "87e5afa9-5532-4d4d-c1f4-32b4ab5ee31e"
      },
      "execution_count": 3,
      "outputs": [
        {
          "output_type": "stream",
          "name": "stdout",
          "text": [
            "Concatenated tuple: (1, 2, 3, 4, 5, 6)\n"
          ]
        }
      ]
    },
    {
      "cell_type": "markdown",
      "source": [
        "24.Develop a code that prompts the user to input two sets of strings. Then, print the elements that are\n",
        "present in the first set but not in the second set"
      ],
      "metadata": {
        "id": "NGL14Pm73nRd"
      }
    },
    {
      "cell_type": "code",
      "source": [
        "set1 = set(input(\"Enter elements of the first set separated by space: \").split())\n",
        "\n",
        "# Get input for the second set\n",
        "set2 = set(input(\"Enter elements of the second set separated by space: \").split())\n",
        "set3 = set1 - set2\n",
        "print(set3)"
      ],
      "metadata": {
        "colab": {
          "base_uri": "https://localhost:8080/"
        },
        "id": "0zt4-mTzDgFm",
        "outputId": "0c04c275-1864-4ed8-b716-8d9140bbc2f0"
      },
      "execution_count": 8,
      "outputs": [
        {
          "output_type": "stream",
          "name": "stdout",
          "text": [
            "Enter elements of the first set separated by space: \"mayur\" \"virat\"\n",
            "Enter elements of the second set separated by space: \"virat\" , \"mayur\"\n",
            "set()\n"
          ]
        }
      ]
    },
    {
      "cell_type": "markdown",
      "source": [
        "25. Create a code that takes a tuple and two integers as input. The function should return a new tuple\n",
        "containing elements from the original tuple within the specified range of indices"
      ],
      "metadata": {
        "id": "P22trOEFICHH"
      }
    },
    {
      "cell_type": "code",
      "source": [
        "def extract_elements(input_tuple, start_index, end_index):\n",
        "    # Return a new tuple containing elements within the specified range of indices\n",
        "    return input_tuple[start_index:end_index+1]\n",
        "\n",
        "# Input tuple\n",
        "input_tuple = (1, 2, 3, 4, 5, 6, 7, 8, 9)\n",
        "\n",
        "# Input start and end indices\n",
        "start_index = 2\n",
        "end_index = 5\n",
        "\n",
        "# Call the function to extract elements within the specified range of indices\n",
        "result_tuple = extract_elements(input_tuple, start_index, end_index)\n",
        "\n",
        "# Print the new tuple containing elements within the specified range of indices\n",
        "print(\"New tuple containing elements within the specified range of indices:\", result_tuple)\n"
      ],
      "metadata": {
        "colab": {
          "base_uri": "https://localhost:8080/"
        },
        "id": "LBDbL3DPIMgg",
        "outputId": "61101959-6d99-42e4-a2c7-1591f5c4bb6d"
      },
      "execution_count": 10,
      "outputs": [
        {
          "output_type": "stream",
          "name": "stdout",
          "text": [
            "New tuple containing elements within the specified range of indices: (3, 4, 5, 6)\n"
          ]
        }
      ]
    },
    {
      "cell_type": "markdown",
      "source": [
        " 26. Write a code that prompts the user to input two sets of characters. Then, print the union of these two set"
      ],
      "metadata": {
        "id": "m-gSwxO8JAoy"
      }
    },
    {
      "cell_type": "code",
      "source": [
        "set1 = set(input(\"Enter elements of the first set separated by space: \").split())\n",
        "\n",
        "# Get input for the second set\n",
        "set2 = set(input(\"Enter elements of the second set separated by space: \").split())\n",
        "set3 = set1.union(set2)\n",
        "print(set3)"
      ],
      "metadata": {
        "colab": {
          "base_uri": "https://localhost:8080/"
        },
        "id": "rqR8Kks_Jg8S",
        "outputId": "35c93990-f785-4b8f-b8cb-2cb779afc3ed"
      },
      "execution_count": 11,
      "outputs": [
        {
          "output_type": "stream",
          "name": "stdout",
          "text": [
            "Enter elements of the first set separated by space: \"m\" \"v\"\n",
            "Enter elements of the second set separated by space: \"w\"  \"v\"  \"s\"\n",
            "{'\"w\"', '\"s\"', '\"m\"', '\"v\"'}\n"
          ]
        }
      ]
    },
    {
      "cell_type": "markdown",
      "source": [
        "27. Develop a code that takes a tuple of integers as input. The function should return the maximum and\n",
        "minimum values from the tuple using tuple unpacking"
      ],
      "metadata": {
        "id": "dX9NjE6LKLC8"
      }
    },
    {
      "cell_type": "code",
      "source": [
        "a = tuple((input(\"enter a numbers\")))\n",
        "\n",
        "print(max(a))\n",
        "print(min(a))"
      ],
      "metadata": {
        "colab": {
          "base_uri": "https://localhost:8080/"
        },
        "collapsed": true,
        "id": "4nZHykIfKU_8",
        "outputId": "c93b818c-dfdb-4d3a-832b-0c41046358b9"
      },
      "execution_count": null,
      "outputs": [
        {
          "output_type": "stream",
          "name": "stdout",
          "text": [
            "enter a numbers8,9,6,5,5,9\n",
            "9\n",
            ",\n"
          ]
        }
      ]
    },
    {
      "cell_type": "markdown",
      "source": [
        "28. Create a code that defines two sets of integers. Then, print the union, intersection, and difference of these\n",
        "two sets"
      ],
      "metadata": {
        "id": "TKxa3iLuSX_m"
      }
    },
    {
      "cell_type": "code",
      "source": [
        "set1 = {3,5,6,7,4,3,2,4}\n",
        "set2 = {4,45,6,7,2,4,2,4,21,2}\n",
        "print(set1.union(set2))\n",
        "print(set1.intersection(set2))\n",
        "print(set1.difference(set2))"
      ],
      "metadata": {
        "colab": {
          "base_uri": "https://localhost:8080/"
        },
        "id": "Z9Jxc5dSST6w",
        "outputId": "4b43386b-f549-4182-fe1f-1aa01a7a6466"
      },
      "execution_count": 13,
      "outputs": [
        {
          "output_type": "stream",
          "name": "stdout",
          "text": [
            "{2, 3, 4, 5, 6, 7, 45, 21}\n",
            "{2, 4, 6, 7}\n",
            "{3, 5}\n"
          ]
        }
      ]
    },
    {
      "cell_type": "markdown",
      "source": [
        "29. Write a code that takes a tuple and an element as input. The function should return the count of\n",
        "occurrences of the given element in the tuples"
      ],
      "metadata": {
        "id": "Pu7JRZJJS_xu"
      }
    },
    {
      "cell_type": "code",
      "source": [
        "# Program to count the number of times an element\n",
        "# Present in the list\n",
        "\n",
        "\n",
        "def countX(tup, x):\n",
        "\tcount = 0\n",
        "\n",
        "\tfor ele in tup:\n",
        "\t\tif (ele == x):\n",
        "\t\t\tcount = count + 1\n",
        "\treturn count\n",
        "\n",
        "tup = (10, 8, 5, 2, 10, 15, 10, 8, 5, 8, 8, 2)\n",
        "enq = 4\n",
        "enq1 = 10\n",
        "enq2 = 8\n",
        "\n",
        "print(countX(tup, enq))\n",
        "print(countX(tup, enq1))\n",
        "print(countX(tup, enq2))\n",
        "\n"
      ],
      "metadata": {
        "colab": {
          "base_uri": "https://localhost:8080/"
        },
        "id": "VKe6qAWZTVUp",
        "outputId": "ca0cdb0b-fd09-444e-be62-0745f8f0515d"
      },
      "execution_count": 14,
      "outputs": [
        {
          "output_type": "stream",
          "name": "stdout",
          "text": [
            "0\n",
            "3\n",
            "4\n"
          ]
        }
      ]
    },
    {
      "cell_type": "markdown",
      "source": [
        "30. Develop a code that prompts the user to input two sets of strings. Then, print the symmetric difference of\n",
        "these two sets"
      ],
      "metadata": {
        "id": "tVlv_JJ_Ue2x"
      }
    },
    {
      "cell_type": "code",
      "source": [
        "set_6 = str(input(\"enter strings \"))\n",
        "set_9 = str(input(\"enter strings \"))\n",
        "set_6 = set(set_6)\n",
        "set_9 = set(set_9)\n",
        "set_22 = set_6.symmetric_difference(set_9)\n",
        "print(set_22)"
      ],
      "metadata": {
        "colab": {
          "base_uri": "https://localhost:8080/"
        },
        "collapsed": true,
        "id": "GCgFXz3lUmRs",
        "outputId": "2300cc66-64f3-40b6-a187-7f83de186834"
      },
      "execution_count": null,
      "outputs": [
        {
          "output_type": "stream",
          "name": "stdout",
          "text": [
            "enter strings \"ramesh\" \"neetu\" \"suresh\"\n",
            "enter strings \"ram\" \"aanchal\" \"baby\"\n",
            "{'l', 'e', 'u', 't', 'y', 'b', 's', 'c'}\n"
          ]
        }
      ]
    },
    {
      "cell_type": "markdown",
      "source": [
        "31. Write a code that takes a list of words as input and returns a dictionary where the keys are unique words\n",
        "and the values are the frequencies of those words in the input list31."
      ],
      "metadata": {
        "id": "PBYJbyWZYLX6"
      }
    },
    {
      "cell_type": "code",
      "source": [
        "def CountFreq(li):\n",
        "    freq = {}\n",
        "    for item in li:\n",
        "        if (item in freq):\n",
        "            freq[item] += 1\n",
        "        else:\n",
        "            freq[item] = 1\n",
        "      print(freq)\n",
        "li =[1, 1, 3, 2, 6, 5, 3, 1, 3, 3, 1, 4, 6, 4, 4, 2, 2, 2, 2]\n",
        "CountFreq(li)\n"
      ],
      "metadata": {
        "colab": {
          "base_uri": "https://localhost:8080/",
          "height": 106
        },
        "collapsed": true,
        "id": "7OWNUU2yYY2Z",
        "outputId": "1eb39c8b-add2-4eee-ee2a-a21b025fca30"
      },
      "execution_count": null,
      "outputs": [
        {
          "output_type": "error",
          "ename": "IndentationError",
          "evalue": "unindent does not match any outer indentation level (<tokenize>, line 8)",
          "traceback": [
            "\u001b[0;36m  File \u001b[0;32m\"<tokenize>\"\u001b[0;36m, line \u001b[0;32m8\u001b[0m\n\u001b[0;31m    print(freq)\u001b[0m\n\u001b[0m    ^\u001b[0m\n\u001b[0;31mIndentationError\u001b[0m\u001b[0;31m:\u001b[0m unindent does not match any outer indentation level\n"
          ]
        }
      ]
    },
    {
      "cell_type": "markdown",
      "source": [
        "32. write a code that takes two dictionaries as input and merges them into a single dictionary.if there are common keys,the value should be added together."
      ],
      "metadata": {
        "id": "AEevhQFyNdyd"
      }
    },
    {
      "cell_type": "code",
      "source": [
        "def merge_dictionaries(dict1, dict2):\n",
        "    merged_dict = dict1.copy()  # Start with dict1's keys and values\n",
        "    for key, value in dict2.items():\n",
        "        if key in merged_dict:\n",
        "            merged_dict[key] += value  # Add values if key is common\n",
        "        else:\n",
        "            merged_dict[key] = value  # Otherwise, add new key-value pair\n",
        "    return merged_dict\n",
        "\n",
        "# Example usage\n",
        "dict1 = {'a': 10, 'b': 20, 'c': 30}\n",
        "dict2 = {'b': 15, 'c': 5, 'd': 50}\n",
        "\n",
        "result = merge_dictionaries(dict1, dict2)\n",
        "print(result)  # Output: {'a': 10, 'b': 35, 'c': 35, 'd': 50}\n"
      ],
      "metadata": {
        "colab": {
          "base_uri": "https://localhost:8080/"
        },
        "id": "mPeNrWcxOJMI",
        "outputId": "8f35da8c-280e-4539-91c0-0eae7a033ed0"
      },
      "execution_count": 17,
      "outputs": [
        {
          "output_type": "stream",
          "name": "stdout",
          "text": [
            "{'a': 10, 'b': 35, 'c': 35, 'd': 50}\n"
          ]
        }
      ]
    },
    {
      "cell_type": "markdown",
      "source": [
        "33.Write a code to access a value in a nested dictionary. The function should take the dictionary and a list of\n",
        "keys as input, and return the corresponding value. If any of the keys do not exist in the dictionary, the\n",
        "function should return None"
      ],
      "metadata": {
        "id": "aIaCT_NnZb-6"
      }
    },
    {
      "cell_type": "code",
      "source": [
        "market = {\"fruits\": {\"apple\": 20, \"orange\": 60, \"strawberry\": 50, \"grapes\": 200},\n",
        "          \"vegetables\": {\"carrot\": 50, \"beans\": 100, \"tomato\": 70}}\n",
        "\n",
        "# printing the value by accessing using square brackets with key of dictionary\n",
        "print(\"Orange Price:\",market[\"fruits\"][\"orange\"])\n",
        "print(\"Grapes Price:\",market[\"fruits\"][\"grapes\"])\n",
        "print(\"Tomato Price:\",market[\"vegetables\"][\"tomato\"])"
      ],
      "metadata": {
        "colab": {
          "base_uri": "https://localhost:8080/"
        },
        "id": "ADssBKboZoUQ",
        "outputId": "83db900f-aadc-4122-d429-a53f5dd171a8"
      },
      "execution_count": 19,
      "outputs": [
        {
          "output_type": "stream",
          "name": "stdout",
          "text": [
            "Orange Price: 60\n",
            "Grapes Price: 200\n",
            "Tomato Price: 70\n"
          ]
        }
      ]
    },
    {
      "cell_type": "markdown",
      "source": [
        "34. write a code that takes a dictionary as input and return a sorted version of it based on the value.you can choose whether to sort in ascending or descending order."
      ],
      "metadata": {
        "id": "_SN6mpACO6i1"
      }
    },
    {
      "cell_type": "code",
      "source": [
        "def sort_dictionary_by_value(input_dict, ascending=True):\n",
        "    # Sort the dictionary based on values\n",
        "    sorted_dict = dict(sorted(input_dict.items(), key=lambda item: item[1], reverse=not ascending))\n",
        "    return sorted_dict\n",
        "\n",
        "# Example usage\n",
        "input_dict = {'apple': 10, 'banana': 5, 'cherry': 15, 'date': 8}\n",
        "\n",
        "# Sort in ascending order\n",
        "ascending_sorted_dict = sort_dictionary_by_value(input_dict, ascending=True)\n",
        "print(\"Ascending:\", ascending_sorted_dict)\n",
        "\n",
        "# Sort in descending order\n",
        "descending_sorted_dict = sort_dictionary_by_value(input_dict, ascending=False)\n",
        "print(\"Descending:\", descending_sorted_dict)\n"
      ],
      "metadata": {
        "colab": {
          "base_uri": "https://localhost:8080/"
        },
        "id": "dfT7xB9qPucm",
        "outputId": "d345c04f-dab7-4086-f952-cab9721287e1"
      },
      "execution_count": 20,
      "outputs": [
        {
          "output_type": "stream",
          "name": "stdout",
          "text": [
            "Ascending: {'banana': 5, 'date': 8, 'apple': 10, 'cherry': 15}\n",
            "Descending: {'cherry': 15, 'apple': 10, 'date': 8, 'banana': 5}\n"
          ]
        }
      ]
    },
    {
      "cell_type": "markdown",
      "source": [
        "35. Write a code that takes a dictionary as input and returns a sorted version of it based on the values. You\n",
        "can choose whether to sort in ascending or descending order\n"
      ],
      "metadata": {
        "id": "cxWuNElMacRL"
      }
    },
    {
      "cell_type": "code",
      "source": [
        "# input dict\n",
        "input_dict = {'statics': 90, 'DSA': 80, 'math': 95, 'Python': 75}\n",
        "\n",
        "# sorting values in descending order\n",
        "output = dict(sorted(input_dict.items(), key=lambda item: item[1], reverse=True))\n",
        "\n",
        "\n",
        "print(output)\n"
      ],
      "metadata": {
        "colab": {
          "base_uri": "https://localhost:8080/"
        },
        "id": "r_7VBzxnaowO",
        "outputId": "181372ef-e6c6-4e4b-b834-2d89939e24a5"
      },
      "execution_count": 22,
      "outputs": [
        {
          "output_type": "stream",
          "name": "stdout",
          "text": [
            "{'math': 95, 'statics': 90, 'DSA': 80, 'Python': 75}\n"
          ]
        }
      ]
    }
  ]
}